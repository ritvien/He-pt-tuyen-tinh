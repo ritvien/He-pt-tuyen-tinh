{
 "cells": [
  {
   "cell_type": "code",
   "execution_count": 2,
   "id": "1d82f51d",
   "metadata": {
    "ExecuteTime": {
     "end_time": "2024-04-17T00:03:19.169294Z",
     "start_time": "2024-04-17T00:03:18.843641Z"
    }
   },
   "outputs": [],
   "source": [
    "import numpy as np\n",
    "\n",
    "def cholesky(A):\n",
    "    n = len(A)\n",
    "    L = np.zeros((n, n))\n",
    "\n",
    "    for i in range(n):\n",
    "        for j in range(i + 1):\n",
    "            if j == i:\n",
    "                L[i][j] = np.sqrt(A[i][i] - sum(L[i][k] ** 2 for k in range(j)))\n",
    "            else:\n",
    "                L[i][j] = (A[i][j] - sum(L[i][k] * L[j][k] for k in range(j))) / L[j][j]\n",
    "\n",
    "    return L\n",
    "\n",
    "def solve_cholesky(A, b):\n",
    "    L = cholesky(A)\n",
    "\n",
    "    # Forward substitution: Ly = b\n",
    "    n = len(A)\n",
    "    y = np.zeros(n)\n",
    "    for i in range(n):\n",
    "        y[i] = (b[i] - sum(L[i][j] * y[j] for j in range(i))) / L[i][i]\n",
    "\n",
    "    # Backward substitution: L^Tx = y\n",
    "    x = np.zeros(n)\n",
    "    for i in range(n - 1, -1, -1):\n",
    "        x[i] = (y[i] - sum(L[j][i] * x[j] for j in range(i + 1, n))) / L[i][i]\n",
    "\n",
    "    return x"
   ]
  },
  {
   "cell_type": "code",
   "execution_count": 4,
   "id": "149241ff",
   "metadata": {
    "ExecuteTime": {
     "end_time": "2024-04-17T00:03:35.062860Z",
     "start_time": "2024-04-17T00:03:35.030127Z"
    }
   },
   "outputs": [
    {
     "name": "stdout",
     "output_type": "stream",
     "text": [
      "Solution: [nan nan nan nan nan]\n"
     ]
    },
    {
     "name": "stderr",
     "output_type": "stream",
     "text": [
      "C:\\Users\\Admin\\AppData\\Local\\Temp\\ipykernel_15724\\1658165372.py:12: RuntimeWarning: divide by zero encountered in scalar divide\n",
      "  L[i][j] = (A[i][j] - sum(L[i][k] * L[j][k] for k in range(j))) / L[j][j]\n",
      "C:\\Users\\Admin\\AppData\\Local\\Temp\\ipykernel_15724\\1658165372.py:10: RuntimeWarning: invalid value encountered in sqrt\n",
      "  L[i][j] = np.sqrt(A[i][i] - sum(L[i][k] ** 2 for k in range(j)))\n",
      "C:\\Users\\Admin\\AppData\\Local\\Temp\\ipykernel_15724\\1658165372.py:23: RuntimeWarning: divide by zero encountered in scalar divide\n",
      "  y[i] = (b[i] - sum(L[i][j] * y[j] for j in range(i))) / L[i][i]\n"
     ]
    }
   ],
   "source": [
    "mat = np.array([[0,1,2,-3,2,-2.5],\n",
    "                [-5,5,-12,6,3,-3.5],\n",
    "                [4,3,5,2,11,-9],\n",
    "                [-5,-3,2,5,-7,27],\n",
    "                [3,1,-4,9,5,-7]])\n",
    "\n",
    "\n",
    "A = mat[:,:5]\n",
    "b = mat[:,-1]\n",
    "\n",
    "\n",
    "x = solve_cholesky(A, b)\n",
    "print(\"Solution:\", x)\n",
    "\n"
   ]
  },
  {
   "cell_type": "code",
   "execution_count": 10,
   "id": "40de63e8",
   "metadata": {
    "ExecuteTime": {
     "end_time": "2024-04-16T15:14:09.629182Z",
     "start_time": "2024-04-16T15:14:09.621282Z"
    }
   },
   "outputs": [
    {
     "name": "stdout",
     "output_type": "stream",
     "text": [
      "Ma trận đối xứng:\n",
      "[[1.11260417 1.1077505  0.69463471 1.29668599]\n",
      " [1.1077505  0.62730767 1.53476811 0.87897224]\n",
      " [0.69463471 1.53476811 1.21959863 0.98991298]\n",
      " [1.29668599 0.87897224 0.98991298 0.48216343]]\n",
      "\n",
      "Ma trận đối xứng xác định dương:\n",
      "[[2.12049668 1.1077505  0.69463471 1.29668599]\n",
      " [1.1077505  2.47445127 1.53476811 0.87897224]\n",
      " [0.69463471 1.53476811 2.72335806 0.98991298]\n",
      " [1.29668599 0.87897224 0.98991298 2.06932764]]\n",
      "Ma trận là ma trận đối xứng xác định dương.\n"
     ]
    }
   ],
   "source": [
    "import numpy as np\n",
    "\n",
    "# Kích thước của ma trận\n",
    "n = 4\n",
    "\n",
    "# Tạo một ma trận vuông đối xứng ngẫu nhiên\n",
    "random_matrix = np.random.rand(n, n)\n",
    "symmetric_matrix = random_matrix + random_matrix.T\n",
    "\n",
    "# Thêm một ma trận đường chéo dương vào ma trận đối xứng\n",
    "positive_diagonal = np.diag(np.random.rand(n) + 1)  # Thêm 1 để đảm bảo các giá trị dương\n",
    "positive_definite_symmetric_matrix = symmetric_matrix + positive_diagonal\n",
    "\n",
    "print(\"Ma trận đối xứng:\")\n",
    "print(symmetric_matrix)\n",
    "\n",
    "print(\"\\nMa trận đối xứng xác định dương:\")\n",
    "print(positive_definite_symmetric_matrix)\n",
    "\n",
    "# Kiểm tra xem ma trận có xác định dương không\n",
    "if np.all(np.linalg.eigvals(positive_definite_symmetric_matrix) > 0):\n",
    "    print(\"Ma trận là ma trận đối xứng xác định dương.\")\n",
    "else:\n",
    "    print(\"Ma trận không phải là ma trận đối xứng xác định dương.\")\n"
   ]
  },
  {
   "cell_type": "code",
   "execution_count": 5,
   "id": "86e27cab",
   "metadata": {
    "ExecuteTime": {
     "end_time": "2024-04-17T00:47:30.153714Z",
     "start_time": "2024-04-17T00:47:30.104530Z"
    }
   },
   "outputs": [
    {
     "data": {
      "text/plain": [
       "[[0, 1, 2, -3, 2, -2.5],\n",
       " [-5, 5, -12, 6, 3, -3.5],\n",
       " [4, 3, 5, 2, 11, -9],\n",
       " [-5, -3, 2, 5, -7, 27],\n",
       " [3, 1, -4, 9, 5, -7]]"
      ]
     },
     "execution_count": 5,
     "metadata": {},
     "output_type": "execute_result"
    }
   ],
   "source": [
    "[[0,1,2,-3,2,-2.5],\n",
    "[-5,5,-12,6,3,-3.5],\n",
    "[4,3,5,2,11,-9],\n",
    "[-5,-3,2,5,-7,27],\n",
    "[3,1,-4,9,5,-7]]\n"
   ]
  },
  {
   "cell_type": "code",
   "execution_count": null,
   "id": "c66afc25",
   "metadata": {},
   "outputs": [],
   "source": []
  }
 ],
 "metadata": {
  "kernelspec": {
   "display_name": "Python 3 (ipykernel)",
   "language": "python",
   "name": "python3"
  },
  "language_info": {
   "codemirror_mode": {
    "name": "ipython",
    "version": 3
   },
   "file_extension": ".py",
   "mimetype": "text/x-python",
   "name": "python",
   "nbconvert_exporter": "python",
   "pygments_lexer": "ipython3",
   "version": "3.9.13"
  },
  "toc": {
   "base_numbering": 1,
   "nav_menu": {},
   "number_sections": true,
   "sideBar": true,
   "skip_h1_title": false,
   "title_cell": "Table of Contents",
   "title_sidebar": "Contents",
   "toc_cell": false,
   "toc_position": {},
   "toc_section_display": true,
   "toc_window_display": false
  }
 },
 "nbformat": 4,
 "nbformat_minor": 5
}
