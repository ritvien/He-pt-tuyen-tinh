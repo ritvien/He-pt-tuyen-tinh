{
 "cells": [
  {
   "cell_type": "code",
   "execution_count": 2,
   "id": "749d04e2",
   "metadata": {
    "ExecuteTime": {
     "end_time": "2024-06-14T07:48:42.277874Z",
     "start_time": "2024-06-14T07:48:42.261876Z"
    }
   },
   "outputs": [],
   "source": [
    "import numpy as np"
   ]
  },
  {
   "cell_type": "markdown",
   "id": "8e9b1d35",
   "metadata": {},
   "source": [
    "**GIẢI:** <font size=5><span style=\"color: color;\"> **Ax = d**</span> "
   ]
  },
  {
   "cell_type": "markdown",
   "id": "50ddfe1a",
   "metadata": {},
   "source": [
    "` Bước 1` Đưa về dạng <span style=\"color: color;\"> **x = Bx + d**</span> "
   ]
  },
  {
   "cell_type": "code",
   "execution_count": null,
   "id": "0f741bec",
   "metadata": {},
   "outputs": [],
   "source": []
  },
  {
   "cell_type": "code",
   "execution_count": null,
   "id": "42be0424",
   "metadata": {},
   "outputs": [],
   "source": []
  },
  {
   "cell_type": "code",
   "execution_count": null,
   "id": "535fd83f",
   "metadata": {},
   "outputs": [],
   "source": []
  },
  {
   "cell_type": "code",
   "execution_count": null,
   "id": "27b3c059",
   "metadata": {},
   "outputs": [],
   "source": []
  },
  {
   "cell_type": "code",
   "execution_count": null,
   "id": "c61caf28",
   "metadata": {},
   "outputs": [],
   "source": []
  },
  {
   "cell_type": "markdown",
   "id": "a5ce57a7",
   "metadata": {},
   "source": [
    "<span style=\"color:red\">&#10060;</span> : X\n",
    "\n",
    "👉 👇\n",
    "\n",
    "\n",
    "⚠️\n",
    "\n",
    "<span style=\"color: green; font-size: 24px;\">&#10004;</span>\n",
    ": Dấu tích\n",
    "\n",
    "&#128161; : bóng đèn\n",
    "\n",
    "<font size =5> &#x1F9EE; Công thức \n",
    "\n",
    "<font size =5> &#x1F4DA; : Bài tập\n",
    "   \n",
    "<img src='link' style=\"width:500px;\"/> : Chèn ảnh\n",
    "    \n",
    "<div style=\"margin-left: 200px;\">: căn lề\n",
    "    \n",
    "    \n",
    "<span style=\"color: color;\"> **text**</span> : màu"
   ]
  },
  {
   "cell_type": "code",
   "execution_count": null,
   "id": "1ffb7bbb",
   "metadata": {},
   "outputs": [],
   "source": []
  }
 ],
 "metadata": {
  "kernelspec": {
   "display_name": "Python (Hoang)",
   "language": "python",
   "name": "hoangnguyen"
  },
  "language_info": {
   "codemirror_mode": {
    "name": "ipython",
    "version": 3
   },
   "file_extension": ".py",
   "mimetype": "text/x-python",
   "name": "python",
   "nbconvert_exporter": "python",
   "pygments_lexer": "ipython3",
   "version": "3.8.18"
  },
  "toc": {
   "base_numbering": 1,
   "nav_menu": {},
   "number_sections": true,
   "sideBar": true,
   "skip_h1_title": false,
   "title_cell": "Table of Contents",
   "title_sidebar": "Contents",
   "toc_cell": false,
   "toc_position": {},
   "toc_section_display": true,
   "toc_window_display": false
  },
  "varInspector": {
   "cols": {
    "lenName": 16,
    "lenType": 16,
    "lenVar": 40
   },
   "kernels_config": {
    "python": {
     "delete_cmd_postfix": "",
     "delete_cmd_prefix": "del ",
     "library": "var_list.py",
     "varRefreshCmd": "print(var_dic_list())"
    },
    "r": {
     "delete_cmd_postfix": ") ",
     "delete_cmd_prefix": "rm(",
     "library": "var_list.r",
     "varRefreshCmd": "cat(var_dic_list()) "
    }
   },
   "types_to_exclude": [
    "module",
    "function",
    "builtin_function_or_method",
    "instance",
    "_Feature"
   ],
   "window_display": false
  }
 },
 "nbformat": 4,
 "nbformat_minor": 5
}
